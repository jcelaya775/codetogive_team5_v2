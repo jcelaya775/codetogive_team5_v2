{
 "cells": [
  {
   "cell_type": "code",
   "execution_count": 15,
   "id": "c0375dd3",
   "metadata": {},
   "outputs": [],
   "source": [
    "#example list\n",
    "fieldList = ['cs', 'biotech', 'finance']"
   ]
  },
  {
   "cell_type": "code",
   "execution_count": 16,
   "id": "034fe26c",
   "metadata": {},
   "outputs": [
    {
     "name": "stdout",
     "output_type": "stream",
     "text": [
      "['datascience\\n', 'software\\n', 'business\\n', 'security\\n', 'research\\n', 'fintech\\n', 'consulting\\n', 'ai\\n', 'robotics\\n', 'webdev\\n', 'mobiledev\\n', 'gamedev\\n', 'biotech\\n']\n"
     ]
    }
   ],
   "source": [
    "#open file and read lines\n",
    "file = open('classList', 'r')\n",
    "lines = file.readlines()\n",
    "print(lines)"
   ]
  },
  {
   "cell_type": "code",
   "execution_count": 17,
   "id": "340b1b4a",
   "metadata": {},
   "outputs": [
    {
     "name": "stdout",
     "output_type": "stream",
     "text": [
      "['userID', 'datascience', 'software', 'business', 'security', 'research', 'fintech', 'consulting', 'ai', 'robotics', 'webdev', 'mobiledev', 'gamedev', 'biotech', 'classification']\n"
     ]
    }
   ],
   "source": [
    "#get classes and make headers\n",
    "classes = []\n",
    "headers = ['userID']\n",
    "\n",
    "for line in lines:\n",
    "    line = line.strip()\n",
    "    headers.append(line)\n",
    "    classes.append(line)\n",
    "                  \n",
    "headers.append('classification')\n",
    "print(headers)"
   ]
  },
  {
   "cell_type": "code",
   "execution_count": 18,
   "id": "a3c3e361",
   "metadata": {
    "scrolled": true
   },
   "outputs": [
    {
     "name": "stdout",
     "output_type": "stream",
     "text": [
      "add types as they come along in brainstorming\n"
     ]
    }
   ],
   "source": [
    "#user types\n",
    "\"\"\" \n",
    "user types (most common to least common)\n",
    "\n",
    "   40%\n",
    "    undirected-inactive:\n",
    "            not sure of interest (similar responses), new to the platform (low interaction)\n",
    "        input: \n",
    "            similar response values (in any range), low interaction values\n",
    "        output: \n",
    "            equally distributed classifications\n",
    "    \n",
    "    20%\n",
    "    directed-inactive / misdirected-inactive:\n",
    "            sure of interest, low interaction\n",
    "        input:\n",
    "            strong response cluster, weak interaction cluster\n",
    "        output:\n",
    "            mostly directed class but other as well\n",
    "    \n",
    "    20%\n",
    "    typical-active:\n",
    "            not sure of interest (similar responses), high interaction with some interest\n",
    "        input:\n",
    "            weak responses, strong interaction cluster\n",
    "        output:\n",
    "            classification by interactions\n",
    "    \n",
    "    10%\n",
    "    misdirected-active:\n",
    "            seemingly sure of interest, strong interaction cluster with contrasting interest\n",
    "        input:\n",
    "            strong response cluster, strong contrasting interaction cluster\n",
    "        output:\n",
    "            classification of both interests, (if anything, leaning to interaction)\n",
    "\n",
    "    10%\n",
    "    directed-active: \n",
    "            sure of interest, highly correlated interactions\n",
    "        input: \n",
    "            strong response and correlating interactions\n",
    "        output: \n",
    "            strong classification of that interest\n",
    "\"\"\"\n",
    "print('add types as they come along in brainstorming')\n",
    "typeDistribution = [0.4, 0.2, 0.2, 0.1, 0.1]"
   ]
  },
  {
   "cell_type": "code",
   "execution_count": 40,
   "id": "e9dbc5cc",
   "metadata": {},
   "outputs": [
    {
     "ename": "NameError",
     "evalue": "name 'dataSetSize' is not defined",
     "output_type": "error",
     "traceback": [
      "\u001b[0;31m---------------------------------------------------------------------------\u001b[0m",
      "\u001b[0;31mNameError\u001b[0m                                 Traceback (most recent call last)",
      "\u001b[0;32m/var/folders/5y/8yjxgddn56gd2f_b6m6_1g1r0000gn/T/ipykernel_40530/4126658592.py\u001b[0m in \u001b[0;36m<module>\u001b[0;34m\u001b[0m\n\u001b[1;32m     41\u001b[0m     \u001b[0mprint\u001b[0m\u001b[0;34m(\u001b[0m\u001b[0muserID\u001b[0m\u001b[0;34m,\u001b[0m \u001b[0mclassification\u001b[0m\u001b[0;34m)\u001b[0m\u001b[0;34m\u001b[0m\u001b[0;34m\u001b[0m\u001b[0m\n\u001b[1;32m     42\u001b[0m \u001b[0;34m\u001b[0m\u001b[0m\n\u001b[0;32m---> 43\u001b[0;31m \u001b[0mmakeData\u001b[0m\u001b[0;34m(\u001b[0m\u001b[0;34m)\u001b[0m\u001b[0;34m\u001b[0m\u001b[0;34m\u001b[0m\u001b[0m\n\u001b[0m",
      "\u001b[0;32m/var/folders/5y/8yjxgddn56gd2f_b6m6_1g1r0000gn/T/ipykernel_40530/4126658592.py\u001b[0m in \u001b[0;36mmakeData\u001b[0;34m()\u001b[0m\n\u001b[1;32m     11\u001b[0m         \u001b[0;32mfor\u001b[0m \u001b[0mc\u001b[0m \u001b[0;32min\u001b[0m \u001b[0mclasses\u001b[0m\u001b[0;34m:\u001b[0m\u001b[0;34m\u001b[0m\u001b[0;34m\u001b[0m\u001b[0m\n\u001b[1;32m     12\u001b[0m             \u001b[0mn\u001b[0m \u001b[0;34m=\u001b[0m \u001b[0;36m0\u001b[0m\u001b[0;34m\u001b[0m\u001b[0;34m\u001b[0m\u001b[0m\n\u001b[0;32m---> 13\u001b[0;31m             \u001b[0;32mwhile\u001b[0m \u001b[0mn\u001b[0m \u001b[0;34m<=\u001b[0m \u001b[0mdataSetSize\u001b[0m\u001b[0;34m(\u001b[0m\u001b[0mtypeDistribution\u001b[0m\u001b[0;34m[\u001b[0m\u001b[0;36m0\u001b[0m\u001b[0;34m]\u001b[0m\u001b[0;34m)\u001b[0m\u001b[0;34m:\u001b[0m\u001b[0;34m\u001b[0m\u001b[0;34m\u001b[0m\u001b[0m\n\u001b[0m\u001b[1;32m     14\u001b[0m                 \u001b[0mundirectedInactive\u001b[0m\u001b[0;34m(\u001b[0m\u001b[0;34m)\u001b[0m\u001b[0;34m\u001b[0m\u001b[0;34m\u001b[0m\u001b[0m\n\u001b[1;32m     15\u001b[0m \u001b[0;34m\u001b[0m\u001b[0m\n",
      "\u001b[0;31mNameError\u001b[0m: name 'dataSetSize' is not defined"
     ]
    }
   ],
   "source": [
    "#generate dataset\n",
    "rows = []\n",
    "datasetSize = 100\n",
    "userID = 0\n",
    "    \n",
    "#makeData\n",
    "def makeData():\n",
    "    \n",
    "    #make undirected-inactive users\n",
    "    for i in range(round(datasetSize * typeDistribution[0])):\n",
    "        for c in classes:\n",
    "            n = 0\n",
    "            while n <= dataSetSize(typeDistribution[0]):\n",
    "                undirectedInactive()\n",
    "            \n",
    "        \n",
    "\n",
    "#make undirected-inactive users\n",
    "def undirectedInactive():\n",
    "    print('made it')\n",
    "#make a row given a userID, classification, and userType\n",
    "def makeRows(classification, userType):\n",
    "    if userType == 'undirected-inactive':\n",
    "        #do stuff append row to rows\n",
    "        print('making undirected-inactive for' + classification)\n",
    "        makeRow(classification)\n",
    "    elif userType == 'directed-inactive':\n",
    "        #do stuff\n",
    "        print('making directed-inactive')\n",
    "    elif userType == 'typical-active':\n",
    "        #do\n",
    "        print('making typical-inactive')\n",
    "    elif userType == 'misdirected-active':\n",
    "        print('making misdirected-active')\n",
    "    elif userType == 'directed-active':\n",
    "        print('making directed-active')\n",
    "    print (userID)\n",
    "\n",
    "# makeRow\n",
    "def makeRow(classification):\n",
    "    print(userID, classification)\n",
    "\n",
    "makeData()\n"
   ]
  },
  {
   "cell_type": "code",
   "execution_count": null,
   "id": "571ea07b",
   "metadata": {},
   "outputs": [],
   "source": []
  }
 ],
 "metadata": {
  "kernelspec": {
   "display_name": "Python 3 (ipykernel)",
   "language": "python",
   "name": "python3"
  },
  "language_info": {
   "codemirror_mode": {
    "name": "ipython",
    "version": 3
   },
   "file_extension": ".py",
   "mimetype": "text/x-python",
   "name": "python",
   "nbconvert_exporter": "python",
   "pygments_lexer": "ipython3",
   "version": "3.9.7"
  }
 },
 "nbformat": 4,
 "nbformat_minor": 5
}
